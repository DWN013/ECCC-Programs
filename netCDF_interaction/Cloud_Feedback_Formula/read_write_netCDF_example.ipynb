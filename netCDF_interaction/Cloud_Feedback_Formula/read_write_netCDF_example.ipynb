{
 "cells": [
  {
   "attachments": {},
   "cell_type": "markdown",
   "metadata": {},
   "source": [
    "Example reading and writing netCDF files using xarray"
   ]
  },
  {
   "cell_type": "code",
   "execution_count": 7,
   "metadata": {},
   "outputs": [],
   "source": [
    "import numpy as np\n",
    "import xarray as xr\n",
    "import matplotlib.pyplot as py\n",
    "import matplotlib.ticker as mticker\n",
    "import cartopy\n",
    "import cartopy.crs as crs"
   ]
  },
  {
   "cell_type": "code",
   "execution_count": 2,
   "metadata": {},
   "outputs": [],
   "source": [
    "infilename=\"/space/hall5/sitestore/eccc/crd/ccrn/forcing/data/cmip6/rc3/td_p2-pictrl_555001-569912_monthly_clim_bc_v1.nc.999\"\n",
    "outfilename=\"test_write.nc\""
   ]
  },
  {
   "attachments": {},
   "cell_type": "markdown",
   "metadata": {},
   "source": [
    "Open the netCDF file as a xarray \"dataset\""
   ]
  },
  {
   "cell_type": "code",
   "execution_count": 3,
   "metadata": {},
   "outputs": [],
   "source": [
    "ds = xr.open_dataset(infilename)"
   ]
  },
  {
   "cell_type": "code",
   "execution_count": 4,
   "metadata": {},
   "outputs": [
    {
     "name": "stdout",
     "output_type": "stream",
     "text": [
      "<xarray.Dataset>\n",
      "Dimensions:   (lat: 64, lon: 129, time: 12)\n",
      "Coordinates:\n",
      "  * time      (time) datetime64[ns] 1850-01-17 1850-02-16 1850-03-17 ...\n",
      "  * lon       (lon) float64 0.0 2.812 5.625 8.438 11.25 14.06 16.88 19.69 ...\n",
      "  * lat       (lat) float64 -87.86 -85.1 -82.31 -79.53 -76.74 -73.95 -71.16 ...\n",
      "Data variables:\n",
      "    GT_atm    (time, lat, lon) float64 ...\n",
      "    SICN_atm  (time, lat, lon) float64 ...\n",
      "    SIC_atm   (time, lat, lon) float64 ...\n",
      "Attributes:\n",
      "    source_file:               16b1245fc9e7bd3310bda4acfa8360214a00b8cf  sc_p...\n",
      "    history:                   Mon Apr 15 18:27:13 2019: /home/opt/package/nc...\n",
      "    data_licence:              1) GRANT OF LICENCE - The Government of Canada...\n",
      "    NCO:                       4.4.7\n",
      "    nco_openmp_thread_number:  1\n"
     ]
    }
   ],
   "source": [
    "print(ds)"
   ]
  },
  {
   "attachments": {},
   "cell_type": "markdown",
   "metadata": {},
   "source": [
    "Access the data in the dataset, i.e., a dataarray, and make a quick plot\n",
    "\n",
    "Note that a much nicer plot could be made with cartopy"
   ]
  },
  {
   "cell_type": "code",
   "execution_count": 11,
   "metadata": {},
   "outputs": [
    {
     "data": {
      "text/plain": [
       "<matplotlib.collections.QuadMesh at 0x15518b841828>"
      ]
     },
     "execution_count": 11,
     "metadata": {},
     "output_type": "execute_result"
    },
    {
     "data": {
      "image/png": "[encoded data removed]",
      "text/plain": [
       "<Figure size 432x288 with 2 Axes>"
      ]
     },
     "metadata": {
      "needs_background": "light"
     },
     "output_type": "display_data"
    }
   ],
   "source": [
    "ds['GT_atm'].isel(time=0).plot()"
   ]
  },
  {
   "attachments": {},
   "cell_type": "markdown",
   "metadata": {},
   "source": [
    "Change the values of a dataarray"
   ]
  },
  {
   "cell_type": "code",
   "execution_count": 12,
   "metadata": {},
   "outputs": [],
   "source": [
    "ds['GT_atm'] = 300.0"
   ]
  },
  {
   "cell_type": "code",
   "execution_count": 13,
   "metadata": {},
   "outputs": [
    {
     "name": "stdout",
     "output_type": "stream",
     "text": [
      "<xarray.Dataset>\n",
      "Dimensions:   (lat: 64, lon: 129, time: 12)\n",
      "Coordinates:\n",
      "  * time      (time) datetime64[ns] 1850-01-17 1850-02-16 1850-03-17 ...\n",
      "  * lon       (lon) float64 0.0 2.812 5.625 8.438 11.25 14.06 16.88 19.69 ...\n",
      "  * lat       (lat) float64 -87.86 -85.1 -82.31 -79.53 -76.74 -73.95 -71.16 ...\n",
      "Data variables:\n",
      "    GT_atm    float64 300.0\n",
      "    SICN_atm  (time, lat, lon) float64 ...\n",
      "    SIC_atm   (time, lat, lon) float64 ...\n",
      "Attributes:\n",
      "    source_file:               16b1245fc9e7bd3310bda4acfa8360214a00b8cf  sc_p...\n",
      "    history:                   Mon Apr 15 18:27:13 2019: /home/opt/package/nc...\n",
      "    data_licence:              1) GRANT OF LICENCE - The Government of Canada...\n",
      "    NCO:                       4.4.7\n",
      "    nco_openmp_thread_number:  1\n"
     ]
    }
   ],
   "source": [
    "print(ds)"
   ]
  },
  {
   "attachments": {},
   "cell_type": "markdown",
   "metadata": {},
   "source": [
    "Write the dataset to a new netCDF file\n",
    "\n",
    "Note that attributes are not written to the output netCDF file.  This needs to be dealt with."
   ]
  },
  {
   "cell_type": "code",
   "execution_count": null,
   "metadata": {},
   "outputs": [
    {
     "ename": "",
     "evalue": "",
     "output_type": "error",
     "traceback": [
      "\u001b[1;31mRunning cells with '/bin/python3.8' requires ipykernel package.\n",
      "\u001b[1;31mRun the following command to install 'ipykernel' into the Python environment. \n",
      "\u001b[1;31mCommand: '/bin/python3.8 -m pip install ipykernel -U --user --force-reinstall'"
     ]
    }
   ],
   "source": [
    "ds.to_netcdf(outfilename)"
   ]
  }
 ],
 "metadata": {
  "kernelspec": {
   "display_name": "Python 3",
   "language": "python",
   "name": "python3"
  },
  "language_info": {
   "codemirror_mode": {
    "name": "ipython",
    "version": 3
   },
   "file_extension": ".py",
   "mimetype": "text/x-python",
   "name": "python",
   "nbconvert_exporter": "python",
   "pygments_lexer": "ipython3",
   "version": "3.8.3 (default, Aug 18 2020, 08:56:04) \n[GCC 8.3.1 20191121 (Red Hat 8.3.1-5)]"
  },
  "orig_nbformat": 4,
  "vscode": {
   "interpreter": {
    "hash": "5b3ded1ccb95c1d9bd405e7b823d9e85424cde40fbb5985eb47e999ef50e15b4"
   }
  }
 },
 "nbformat": 4,
 "nbformat_minor": 2
}
